{
  "cells": [
    {
      "cell_type": "markdown",
      "metadata": {
        "id": "view-in-github",
        "colab_type": "text"
      },
      "source": [
        "<a href=\"https://colab.research.google.com/github/susu1021/Assignment-k8/blob/main/Welcome_to_Colaboratory.ipynb\" target=\"_parent\"><img src=\"https://colab.research.google.com/assets/colab-badge.svg\" alt=\"Open In Colab\"/></a>"
      ]
    },
    {
      "cell_type": "code",
      "source": [
        "\n",
        "f=open(\"/content/naatu.txt\", \"r+\")\n",
        "#new=open(\"naatu2.txt\",\"w\")\n",
        "list=[]\n",
        "ctr=0\n",
        "for line in f:\n",
        "    ct = line.count(\"Naatu\")\n",
        "    ctr +=ct\n",
        "    list.append(line.replace(\"\\n\", \"\") +\" \"+ str(ct)+ \"\\n\")\n",
        "#f.close()\n",
        "#f=open(\"naatu.txt\",\"w\")\n",
        "f.seek(0)\n",
        "f.writelines(list)\n",
        "f.close()\n",
        "print(\"Count = \",ctr)\n",
        "\n",
        "\n",
        "\n"
      ],
      "metadata": {
        "id": "045b79GZ9Jiz",
        "outputId": "6078f89a-bcc2-4425-fc32-9da06bf3fa12",
        "colab": {
          "base_uri": "https://localhost:8080/"
        }
      },
      "execution_count": 4,
      "outputs": [
        {
          "output_type": "stream",
          "name": "stdout",
          "text": [
            "Count =  48\n"
          ]
        }
      ]
    },
    {
      "cell_type": "code",
      "source": [
        "import cv2\n",
        "import numpy as np\n",
        "import csv\n",
        "from math import log10, sqrt\n",
        "\n",
        "def PSNR(original, compressed):\n",
        "    mse = np.mean((original - compressed) ** 2)\n",
        "    if(mse == 0):  # MSE is zero means no noise is present in the signal .\n",
        "                  # Therefore PSNR have no importance.\n",
        "        return 100\n",
        "    max_pixel = 255.0\n",
        "    psnr = 20 * log10(max_pixel / sqrt(mse))\n",
        "    return psnr\n",
        "\n",
        "outfile=open(\"/content/output.csv\", \"w+\")\n",
        "outcsv=csv.writer(outfile)\n",
        "outcsv.writerow([\"Image Number\",\"PSNR\",\"Mean\",\"Variance\"])\n",
        "\n",
        "mainimg=cv2.imread('85.png')\n",
        "for i in range(1,8):\n",
        "  img = cv2.imread(str(i)+'.png')\n",
        "  psnr=PSNR(mainimg,img)\n",
        "  outcsv.writerow([i,psnr,np.mean(img),0])\n",
        "outfile.close()\n"
      ],
      "metadata": {
        "id": "YdYUqDQAGevq",
        "outputId": "3f95551e-6953-499a-d769-2ceb38ad5981",
        "colab": {
          "base_uri": "https://localhost:8080/",
          "height": 351
        }
      },
      "execution_count": 5,
      "outputs": [
        {
          "output_type": "error",
          "ename": "TypeError",
          "evalue": "unsupported operand type(s) for -: 'NoneType' and 'NoneType'",
          "traceback": [
            "\u001b[0;31m---------------------------------------------------------------------------\u001b[0m",
            "\u001b[0;31mTypeError\u001b[0m                                 Traceback (most recent call last)",
            "\u001b[0;32m<ipython-input-5-2da24c167162>\u001b[0m in \u001b[0;36m<cell line: 20>\u001b[0;34m()\u001b[0m\n\u001b[1;32m     20\u001b[0m \u001b[0;32mfor\u001b[0m \u001b[0mi\u001b[0m \u001b[0;32min\u001b[0m \u001b[0mrange\u001b[0m\u001b[0;34m(\u001b[0m\u001b[0;36m1\u001b[0m\u001b[0;34m,\u001b[0m\u001b[0;36m8\u001b[0m\u001b[0;34m)\u001b[0m\u001b[0;34m:\u001b[0m\u001b[0;34m\u001b[0m\u001b[0;34m\u001b[0m\u001b[0m\n\u001b[1;32m     21\u001b[0m   \u001b[0mimg\u001b[0m \u001b[0;34m=\u001b[0m \u001b[0mcv2\u001b[0m\u001b[0;34m.\u001b[0m\u001b[0mimread\u001b[0m\u001b[0;34m(\u001b[0m\u001b[0mstr\u001b[0m\u001b[0;34m(\u001b[0m\u001b[0mi\u001b[0m\u001b[0;34m)\u001b[0m\u001b[0;34m+\u001b[0m\u001b[0;34m'.png'\u001b[0m\u001b[0;34m)\u001b[0m\u001b[0;34m\u001b[0m\u001b[0;34m\u001b[0m\u001b[0m\n\u001b[0;32m---> 22\u001b[0;31m   \u001b[0mpsnr\u001b[0m\u001b[0;34m=\u001b[0m\u001b[0mPSNR\u001b[0m\u001b[0;34m(\u001b[0m\u001b[0mmainimg\u001b[0m\u001b[0;34m,\u001b[0m\u001b[0mimg\u001b[0m\u001b[0;34m)\u001b[0m\u001b[0;34m\u001b[0m\u001b[0;34m\u001b[0m\u001b[0m\n\u001b[0m\u001b[1;32m     23\u001b[0m   \u001b[0moutcsv\u001b[0m\u001b[0;34m.\u001b[0m\u001b[0mwriterow\u001b[0m\u001b[0;34m(\u001b[0m\u001b[0;34m[\u001b[0m\u001b[0mi\u001b[0m\u001b[0;34m,\u001b[0m\u001b[0mpsnr\u001b[0m\u001b[0;34m,\u001b[0m\u001b[0mnp\u001b[0m\u001b[0;34m.\u001b[0m\u001b[0mmean\u001b[0m\u001b[0;34m(\u001b[0m\u001b[0mimg\u001b[0m\u001b[0;34m)\u001b[0m\u001b[0;34m,\u001b[0m\u001b[0;36m0\u001b[0m\u001b[0;34m]\u001b[0m\u001b[0;34m)\u001b[0m\u001b[0;34m\u001b[0m\u001b[0;34m\u001b[0m\u001b[0m\n\u001b[1;32m     24\u001b[0m \u001b[0moutfile\u001b[0m\u001b[0;34m.\u001b[0m\u001b[0mclose\u001b[0m\u001b[0;34m(\u001b[0m\u001b[0;34m)\u001b[0m\u001b[0;34m\u001b[0m\u001b[0;34m\u001b[0m\u001b[0m\n",
            "\u001b[0;32m<ipython-input-5-2da24c167162>\u001b[0m in \u001b[0;36mPSNR\u001b[0;34m(original, compressed)\u001b[0m\n\u001b[1;32m      5\u001b[0m \u001b[0;34m\u001b[0m\u001b[0m\n\u001b[1;32m      6\u001b[0m \u001b[0;32mdef\u001b[0m \u001b[0mPSNR\u001b[0m\u001b[0;34m(\u001b[0m\u001b[0moriginal\u001b[0m\u001b[0;34m,\u001b[0m \u001b[0mcompressed\u001b[0m\u001b[0;34m)\u001b[0m\u001b[0;34m:\u001b[0m\u001b[0;34m\u001b[0m\u001b[0;34m\u001b[0m\u001b[0m\n\u001b[0;32m----> 7\u001b[0;31m     \u001b[0mmse\u001b[0m \u001b[0;34m=\u001b[0m \u001b[0mnp\u001b[0m\u001b[0;34m.\u001b[0m\u001b[0mmean\u001b[0m\u001b[0;34m(\u001b[0m\u001b[0;34m(\u001b[0m\u001b[0moriginal\u001b[0m \u001b[0;34m-\u001b[0m \u001b[0mcompressed\u001b[0m\u001b[0;34m)\u001b[0m \u001b[0;34m**\u001b[0m \u001b[0;36m2\u001b[0m\u001b[0;34m)\u001b[0m\u001b[0;34m\u001b[0m\u001b[0;34m\u001b[0m\u001b[0m\n\u001b[0m\u001b[1;32m      8\u001b[0m     \u001b[0;32mif\u001b[0m\u001b[0;34m(\u001b[0m\u001b[0mmse\u001b[0m \u001b[0;34m==\u001b[0m \u001b[0;36m0\u001b[0m\u001b[0;34m)\u001b[0m\u001b[0;34m:\u001b[0m  \u001b[0;31m# MSE is zero means no noise is present in the signal .\u001b[0m\u001b[0;34m\u001b[0m\u001b[0;34m\u001b[0m\u001b[0m\n\u001b[1;32m      9\u001b[0m                   \u001b[0;31m# Therefore PSNR have no importance.\u001b[0m\u001b[0;34m\u001b[0m\u001b[0;34m\u001b[0m\u001b[0m\n",
            "\u001b[0;31mTypeError\u001b[0m: unsupported operand type(s) for -: 'NoneType' and 'NoneType'"
          ]
        }
      ]
    },
    {
      "cell_type": "code",
      "source": [
        "import cv2\n",
        "import numpy as np\n",
        "from math import log10, sqrt\n",
        "import csv\n",
        "\n",
        "def PSNR(original, compressed):\n",
        "  mse = np.mean((original - compressed) ** 2)\n",
        "  if(mse == 0):\n",
        "    return 100\n",
        "  max_pixel = 255.0\n",
        "  psnr = 20 * log10(max_pixel / sqrt(mse))\n",
        "  return psnr\n",
        "\n",
        "psnr = []\n",
        "mean = []\n",
        "\n",
        "for i in range(1,8):\n",
        "  image1 = cv2.imread(f'{i}.png')\n",
        "  image2 = cv2.imread('85.png')\n",
        "  value = PSNR(image2, image1)\n",
        "  psnr.append(value)\n",
        "\n",
        "for i in range(1,8):\n",
        "  image = cv2.imread(f'{i}.png')\n",
        "  m = np.mean(image, axis=(0, 1))\n",
        "  mean.append(m)\n",
        "\n",
        "with open('data.csv', 'w', newline='') as file:\n",
        "  writer = csv.writer(file)\n",
        "  writer.writerow(['Mean', 'PSNR'])\n",
        "  for i in range(len(mean)):\n",
        "    writer.writerow([mean[i], psnr[i]])\n"
      ],
      "metadata": {
        "id": "iPc2MFMNHDGx"
      },
      "execution_count": null,
      "outputs": []
    },
    {
      "cell_type": "code",
      "source": [
        "import cv2\n",
        "import numpy as np\n",
        "from math import log10, sqrt\n",
        "import csv\n",
        "\n",
        "def PSNR(original, compressed):\n",
        "  mse = np.mean((original - compressed) ** 2)\n",
        "  if(mse == 0):\n",
        "    return 100\n",
        "  max_pixel = 255.0\n",
        "  psnr = 20 * log10(max_pixel / sqrt(mse))\n",
        "  return psnr\n",
        "\n",
        "psnr = []\n",
        "mean = []\n",
        "\n",
        "for i in range(1,8):\n",
        "  image1 = cv2.imread(f'{i}.png')\n",
        "  image2 = cv2.imread('85.png')\n",
        "  value = PSNR(image2, image1)\n",
        "  psnr.append(value)\n",
        "\n",
        "for i in range(1,8):\n",
        "  image = cv2.imread(f'{i}.png')\n",
        "  m = np.mean(image, axis=(0, 1))\n",
        "  mean.append(m)\n",
        "\n",
        "with open('data.csv', 'w', newline='') as file:\n",
        "  writer = csv.writer(file)\n",
        "  writer.writerow(['Mean', 'PSNR'])\n",
        "  for i in range(len(mean)):\n",
        "    writer.writerow([mean[i], psnr[i]])\n"
      ],
      "metadata": {
        "id": "WkLc1IESHVGZ"
      },
      "execution_count": null,
      "outputs": []
    }
  ],
  "metadata": {
    "colab": {
      "name": "Welcome to Colaboratory",
      "provenance": [],
      "include_colab_link": true
    },
    "kernelspec": {
      "display_name": "Python 3",
      "name": "python3"
    }
  },
  "nbformat": 4,
  "nbformat_minor": 0
}